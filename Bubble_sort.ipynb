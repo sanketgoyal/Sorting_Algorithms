{
  "nbformat": 4,
  "nbformat_minor": 0,
  "metadata": {
    "colab": {
      "name": "Bubble_sort.ipynb",
      "version": "0.3.2",
      "provenance": []
    },
    "kernelspec": {
      "name": "python3",
      "display_name": "Python 3"
    }
  },
  "cells": [
    {
      "cell_type": "code",
      "metadata": {
        "id": "OoKPEq9_gach",
        "colab_type": "code",
        "colab": {}
      },
      "source": [
        "from random import randint\n",
        "\n",
        "def create_array(length=10, maxint = 100):\n",
        "  new_arr = [randint(0, maxint) for _ in range(length)]\n",
        "  return new_arr\n",
        "\n",
        "def bubble_sort(arr):\n",
        "  swapped = True\n",
        "  while swapped:\n",
        "    swapped = False\n",
        "    \n",
        "    for i in range(1, len(arr)):\n",
        "      if arr[i-1] > arr[i]:\n",
        "        arr[i], arr[i-1] = arr[i-1], arr[i]\n",
        "        swapped = True\n",
        "        \n",
        "  return arr"
      ],
      "execution_count": 0,
      "outputs": []
    },
    {
      "cell_type": "code",
      "metadata": {
        "id": "H4LJahBXguvy",
        "colab_type": "code",
        "colab": {
          "base_uri": "https://localhost:8080/",
          "height": 51
        },
        "outputId": "8a63c78e-ca63-46a0-b073-982b76835471"
      },
      "source": [
        "a = create_array()\n",
        "print(a)\n",
        "\n",
        "a = bubble_sort(a)\n",
        "print(a)"
      ],
      "execution_count": 3,
      "outputs": [
        {
          "output_type": "stream",
          "text": [
            "[76, 86, 92, 96, 62, 60, 54, 5, 16, 99]\n",
            "[5, 16, 54, 60, 62, 76, 86, 92, 96, 99]\n"
          ],
          "name": "stdout"
        }
      ]
    },
    {
      "cell_type": "code",
      "metadata": {
        "id": "3FaSrx9bhuTW",
        "colab_type": "code",
        "colab": {}
      },
      "source": [
        "def benchmark(n = [10, 100, 1000, 10000]):\n",
        "  from time import time\n",
        "  b0 = [] #Bubble Sort\n",
        "  b1 = [] #Built in Sort\n",
        "  \n",
        "  for length in n:\n",
        "    a = create_array(length, length)\n",
        "    \n",
        "    t0 = time()\n",
        "    s = sorted(a)\n",
        "    t1 = time()\n",
        "    b1.append(t1-t0)\n",
        "    \n",
        "    t0 = time()\n",
        "    s = bubble_sort(a)\n",
        "    t1 = time()\n",
        "    b0.append(t1-t0)\n",
        "    \n",
        "  print(\"n \\tBuilt-In \\tBubble Sort\")\n",
        "  print(\"____________________________________\")\n",
        "  \n",
        "  print\n",
        "  \n",
        "  for i, cur_n in enumerate(n):\n",
        "    print(\"%d\\t%0.5f \\t%0.5f\" %(cur_n, b1[i], b0[i]))  "
      ],
      "execution_count": 0,
      "outputs": []
    },
    {
      "cell_type": "code",
      "metadata": {
        "id": "DH8EKDvjjRd7",
        "colab_type": "code",
        "colab": {
          "base_uri": "https://localhost:8080/",
          "height": 119
        },
        "outputId": "09fca64d-af84-4199-e1e0-b42df795e94d"
      },
      "source": [
        "benchmark()"
      ],
      "execution_count": 9,
      "outputs": [
        {
          "output_type": "stream",
          "text": [
            "n \tBuilt-In \tBubble Sort\n",
            "____________________________________\n",
            "10\t0.00000 \t0.00001\n",
            "100\t0.00002 \t0.00164\n",
            "1000\t0.00020 \t0.17415\n",
            "10000\t0.00278 \t17.87957\n"
          ],
          "name": "stdout"
        }
      ]
    },
    {
      "cell_type": "code",
      "metadata": {
        "id": "P_BtCz3UjUuP",
        "colab_type": "code",
        "colab": {}
      },
      "source": [
        ""
      ],
      "execution_count": 0,
      "outputs": []
    }
  ]
}